{
  "nbformat": 4,
  "nbformat_minor": 0,
  "metadata": {
    "colab": {
      "provenance": [],
      "include_colab_link": true
    },
    "kernelspec": {
      "name": "python3",
      "display_name": "Python 3"
    },
    "language_info": {
      "name": "python"
    }
  },
  "cells": [
    {
      "cell_type": "markdown",
      "metadata": {
        "id": "view-in-github",
        "colab_type": "text"
      },
      "source": [
        "<a href=\"https://colab.research.google.com/github/sevvaldemetgul/hu-bby162-2024/blob/main/canliSinav01.ipynb\" target=\"_parent\"><img src=\"https://colab.research.google.com/assets/colab-badge.svg\" alt=\"Open In Colab\"/></a>"
      ]
    },
    {
      "cell_type": "markdown",
      "source": [
        "**Canlı Sınav 01'e hoşgeldiniz!**"
      ],
      "metadata": {
        "id": "ItmuxWgBbkC1"
      }
    },
    {
      "cell_type": "markdown",
      "source": [
        "Canlı sınav, bilgisayar laboratuvarında bilgisayar başında yapılan ve teslim edilen projeyi ifade etmektedir. Canlı sınavda yazmış olduğunuz kodlar sizin sorumluluğunuzdadır ve gerekirse hangi kodu neden yazdığınızı açık bir şekilde anlatabilmeniz gerekmektedir. Canlı sınav sırasında İnternet üzerindeki kaynaklar kullanılabilir ancak başka bir kişiden destek alınamaz.\n",
        "\n",
        "Canlı sınavın teslim şekli önceki proje çalışmasında olduğu gibidir. \"Canlı Sınav 01\" adlı Colab not defterinin bir kopyasını çıkarmalı, size ait olan bu kopya üzerinde soruları cevaplamalı, GitHub'daki ders deponuza size ait kopyayı yüklemeli ve not defterinin adresini metin alanına yazarak göndermelisiniz.\n",
        "\n",
        "Canlı sınavın doğru şekilde tamamlanması da sınavın önemli bir parçasıdır. Sınav için gönderdiğiniz adresi kontrol ediniz ve doğru dosyayı depoya yerleştirdiği bizden emin olunuz. Teslim sürecinde yapılan hatalar sınavdan 0 puan almanıza yol açabilir!\n",
        "\n",
        "Önemli Not: Soruları cecaplarken sadece şu ana kadar öğrendiğiniz kod yapılarını kullanmanız gerekmektedir!!!"
      ],
      "metadata": {
        "id": "KGjdjR5RbTgH"
      }
    },
    {
      "cell_type": "markdown",
      "source": [
        "**----- Sorular -----**"
      ],
      "metadata": {
        "id": "zBvdh4s8cOqM"
      }
    },
    {
      "cell_type": "markdown",
      "source": [
        "**Soru 1:** Bir giriş sisteminde kullanıcı adı olarak eposta ya da telefon numarası kullanılabilmektedir. Şifre ise tektir. Klavyeden doğru kullanıcı adı ve şifre girildiğinde ekrana \" Sisteme giriş yaptınız\" , yanlış kullanıcı adı girildiğinde \"kullanıcı adı hatalı\" , yanlış şifre girildiğinde \"şifre hatalı\" bilgisi yazdırılmalıdır. Kullanıcı adı hatalı ise şifre sorma adımına geçilmemelidir."
      ],
      "metadata": {
        "id": "ma0FVqgQiLBe"
      }
    },
    {
      "cell_type": "code",
      "source": [
        "#Soru 1 bu bölümde kodlanmalıdır\n",
        "eposta = \"a@a.net\"\n",
        "tel = \"532\"\n",
        "sifre = \"123\"\n",
        "gKulAdi = input(\"Kullanıcı adınızı giriniz (eposta veya telefon numarası): \")\n",
        "gSifre = input(\"Şifrenizi giriniz: \")\n",
        "sonuc == (eposta == gKulAdi or tel == gKulAdi) and (sifre == gSifre)\n",
        "\n",
        "if (gKulAdi == \"a@a\" or gKulAdi == \"532\") and gSifre == \"123\":\n",
        "    print(\"Sisteme giriş yaptınız\")\n",
        "elif gKulAdi != \"a@a\" and gKulAdi != \"532\":\n",
        "    print(\"Kullanıcı adı hatalı\")\n",
        "else:\n",
        "     print(\"Şifre hatalı\")\n",
        "\n",
        "print(sonuc)\n",
        "\n",
        "#HATASINI DÜZELTEMEDİM\n"
      ],
      "metadata": {
        "id": "Fj7wkLMcjp_7",
        "colab": {
          "base_uri": "https://localhost:8080/",
          "height": 245
        },
        "outputId": "a2ad97b0-0056-44f0-9f0c-998981c5e451"
      },
      "execution_count": 79,
      "outputs": [
        {
          "name": "stdout",
          "output_type": "stream",
          "text": [
            "Kullanıcı adınızı giriniz (eposta veya telefon numarası): 532\n",
            "Şifrenizi giriniz: 123\n"
          ]
        },
        {
          "output_type": "error",
          "ename": "NameError",
          "evalue": "name 'sonuc' is not defined",
          "traceback": [
            "\u001b[0;31m---------------------------------------------------------------------------\u001b[0m",
            "\u001b[0;31mNameError\u001b[0m                                 Traceback (most recent call last)",
            "\u001b[0;32m<ipython-input-79-f49c5771518f>\u001b[0m in \u001b[0;36m<cell line: 7>\u001b[0;34m()\u001b[0m\n\u001b[1;32m      5\u001b[0m \u001b[0mgKulAdi\u001b[0m \u001b[0;34m=\u001b[0m \u001b[0minput\u001b[0m\u001b[0;34m(\u001b[0m\u001b[0;34m\"Kullanıcı adınızı giriniz (eposta veya telefon numarası): \"\u001b[0m\u001b[0;34m)\u001b[0m\u001b[0;34m\u001b[0m\u001b[0;34m\u001b[0m\u001b[0m\n\u001b[1;32m      6\u001b[0m \u001b[0mgSifre\u001b[0m \u001b[0;34m=\u001b[0m \u001b[0minput\u001b[0m\u001b[0;34m(\u001b[0m\u001b[0;34m\"Şifrenizi giriniz: \"\u001b[0m\u001b[0;34m)\u001b[0m\u001b[0;34m\u001b[0m\u001b[0;34m\u001b[0m\u001b[0m\n\u001b[0;32m----> 7\u001b[0;31m \u001b[0msonuc\u001b[0m \u001b[0;34m==\u001b[0m \u001b[0;34m(\u001b[0m\u001b[0meposta\u001b[0m \u001b[0;34m==\u001b[0m \u001b[0mgKulAdi\u001b[0m \u001b[0;32mor\u001b[0m \u001b[0mtel\u001b[0m \u001b[0;34m==\u001b[0m \u001b[0mgKulAdi\u001b[0m\u001b[0;34m)\u001b[0m \u001b[0;32mand\u001b[0m \u001b[0;34m(\u001b[0m\u001b[0msifre\u001b[0m \u001b[0;34m==\u001b[0m \u001b[0mgSifre\u001b[0m\u001b[0;34m)\u001b[0m\u001b[0;34m\u001b[0m\u001b[0;34m\u001b[0m\u001b[0m\n\u001b[0m\u001b[1;32m      8\u001b[0m \u001b[0;34m\u001b[0m\u001b[0m\n\u001b[1;32m      9\u001b[0m \u001b[0;32mif\u001b[0m \u001b[0;34m(\u001b[0m\u001b[0mgKulAdi\u001b[0m \u001b[0;34m==\u001b[0m \u001b[0;34m\"a@a\"\u001b[0m \u001b[0;32mor\u001b[0m \u001b[0mgKulAdi\u001b[0m \u001b[0;34m==\u001b[0m \u001b[0;34m\"532\"\u001b[0m\u001b[0;34m)\u001b[0m \u001b[0;32mand\u001b[0m \u001b[0mgSifre\u001b[0m \u001b[0;34m==\u001b[0m \u001b[0;34m\"123\"\u001b[0m\u001b[0;34m:\u001b[0m\u001b[0;34m\u001b[0m\u001b[0;34m\u001b[0m\u001b[0m\n",
            "\u001b[0;31mNameError\u001b[0m: name 'sonuc' is not defined"
          ]
        }
      ]
    },
    {
      "cell_type": "markdown",
      "source": [
        "**Soru 2:** Klavyeden girilen bir insan ismindeki harf sayısına göre ekrana bir cümle yazdırınız. Örneğin 4 harfli bir isim girildiğinde ekrana \"Dört dörtlük bir isim\", 6 harfli bir isim girildiğinde ekrana \"Altıncı hissin kuvvetli\" yazılabilmelidir. Klavyeden üçten az ya da yediden çok harfe sahip bir isim girildiğinde ise ekrana \"isminiz sisteme uygun değildir\" mesajı yazdırılmalıdır."
      ],
      "metadata": {
        "id": "uZDiXJARgK4o"
      }
    },
    {
      "cell_type": "code",
      "source": [
        "#Soru 2 bu bölümde kodlanmalıdır\n",
        "def isim_analizi(isim):\n",
        "  isimUzunlugu = len(isim)\n",
        "  if isimUzunlugu < 3 or isimUzunlugu > 7:\n",
        "    print(\"İsminiz sisteme uygun değildir.\")\n",
        "  elif isimUzunlugu == 4:\n",
        "    print(\"Dört dörtlük bir isim.\")\n",
        "  elif isimUzunlugu == 6:\n",
        "    print(\"Altıncı hissiniz kuvvetli.\")\n",
        "  elif isimUzunlugu == 10:\n",
        "    print(\"Onda onluk bir isim.\")\n",
        "\n",
        "# Kullanıcıdan isim girmesini isteyin\n",
        "isim = input(\"Lütfen isminizi girin: \")\n",
        "\n",
        "# İsim analizini yapın\n",
        "isim_analizi(isim)\n",
        "\n",
        "\n"
      ],
      "metadata": {
        "id": "no7Zd1ZCh5U3",
        "colab": {
          "base_uri": "https://localhost:8080/"
        },
        "outputId": "cc7ff97c-7ff1-48e1-c9a9-8efdbcf5749a"
      },
      "execution_count": 30,
      "outputs": [
        {
          "output_type": "stream",
          "name": "stdout",
          "text": [
            "Lütfen isminizi girin: Şevval\n",
            "Altıncı hissiniz kuvvetli.\n"
          ]
        }
      ]
    },
    {
      "cell_type": "markdown",
      "source": [
        "**Soru 3:** 5 öğenin yer aldığı bir kelime tahmin oyunu oluşturun. Kelimeler bir liste içinde yer almalıdır. Klavyeden girilen kelime liste içinde yer alan kelimelerden biri ise ekrana \"bravo oyunu kazandınız\", aksi halde ise ekrana \"üzgünüm oyunu kaybettiniz\" mesajı gelmelidir."
      ],
      "metadata": {
        "id": "HnIqbjcCeNEV"
      }
    },
    {
      "cell_type": "code",
      "source": [
        "#Soru 3 bu bölümde kodlanmalıdır\n",
        "#Liste oluşturulması\n",
        "kelimeler = [\"Ders\" , \"Ödev\" , \"Sınav\" , \"Mola\" , \"Not\"]\n",
        "\n",
        "# Oyuncudan tahmin istenmesi\n",
        "tahmin = input(\"Bir kelime giriniz: \")\n",
        "\n",
        "# Kontrol aşaması\n",
        "if tahmin in kelimeler:\n",
        "    print(\"Bravo, oyunu kazandınız!\")\n",
        "else:\n",
        "    print(\"Üzgünüm, oyunu kaybettiniz.\")\n"
      ],
      "metadata": {
        "id": "SjzG5g3ffTyv",
        "colab": {
          "base_uri": "https://localhost:8080/"
        },
        "outputId": "4cfff172-35c1-4ea4-e746-e7150ae48a0b"
      },
      "execution_count": 18,
      "outputs": [
        {
          "output_type": "stream",
          "name": "stdout",
          "text": [
            "Bir kelime giriniz: sözlü\n",
            "Üzgünüm, oyunu kaybettiniz.\n"
          ]
        }
      ]
    },
    {
      "cell_type": "markdown",
      "source": [
        "**Soru 4:** 5 öğenin yer aldığı bir sözlük oluşturun. Bu sözlükte 5 kelime ve bu 5 kelimenin anlamları yer almalıdır. Klavyeden girilen anahtar (key) eğer sözlükte varsa kelimenin anlamı ekrana yazdırılmalıdır. Eğer anahtar sözlükte yoksa sözlükte aranan kelimenin olmadığı bilgisi ekrana yazdırılmalıdır."
      ],
      "metadata": {
        "id": "p49cZFjJcXoS"
      }
    },
    {
      "cell_type": "code",
      "execution_count": 22,
      "metadata": {
        "id": "3whYCDz3a8QZ",
        "colab": {
          "base_uri": "https://localhost:8080/"
        },
        "outputId": "0c9ee764-a366-45b3-f8db-ee5c7f8850f0"
      },
      "outputs": [
        {
          "output_type": "stream",
          "name": "stdout",
          "text": [
            "Kelime giriniz: fiil\n",
            "Aradığınız kelime sözlükte bulunmamaktadır.\n"
          ]
        }
      ],
      "source": [
        "#Soru 4 bu bölümde kodlanmalıdır\n",
        "#Sözlük oluşturulması\n",
        "sozluk = {\"Fiil\" : \"Eylem.\" ,\n",
        "          \"İsim\" : \"Ad.\" ,\n",
        "          \"Bağlaç\" : \"Eş görevli kelimeleri veya söz dizimi unsurlarını birbirine bağlayan kelime türü.\" ,\n",
        "          \"Zamir\" : \"Kişi, dönüşlülük, gösterme, soru ve belirsizlik anlamı vererek adların yerini tutan söz.\" ,\n",
        "          \"Sözcük\" : \"Kelime\"}\n",
        "aranan_kelime = input(\"Kelime giriniz: \")\n",
        "\n",
        "if aranan_kelime in sozluk:\n",
        "    print(sozluk[aranan_kelime])\n",
        "else:\n",
        "    print(\"Aradığınız kelime sözlükte bulunmamaktadır.\")\n",
        "#Python da büyük küçük harf duyarlılığı olduğu için küçük harfle yazdığım kelimeyi kabul etmedi."
      ]
    }
  ]
}