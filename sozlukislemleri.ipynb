{
  "nbformat": 4,
  "nbformat_minor": 0,
  "metadata": {
    "colab": {
      "provenance": [],
      "authorship_tag": "ABX9TyOSJOZqqwNCyibMFLRCwZBI",
      "include_colab_link": true
    },
    "kernelspec": {
      "name": "python3",
      "display_name": "Python 3"
    },
    "language_info": {
      "name": "python"
    }
  },
  "cells": [
    {
      "cell_type": "markdown",
      "metadata": {
        "id": "view-in-github",
        "colab_type": "text"
      },
      "source": [
        "<a href=\"https://colab.research.google.com/github/sevvaldemetgul/hu-bby162-2024/blob/main/sozlukislemleri.ipynb\" target=\"_parent\"><img src=\"https://colab.research.google.com/assets/colab-badge.svg\" alt=\"Open In Colab\"/></a>"
      ]
    },
    {
      "cell_type": "code",
      "execution_count": 14,
      "metadata": {
        "id": "f-772ULpmBd7"
      },
      "outputs": [],
      "source": [
        "#Sözlüğün oluşturulması\n",
        "#Konu: Dil bilgisi terimleri\n",
        "sozluk = {\"Fiil\" : \"eylem.\" , \"İsim\" : \"ad.\" , \"Ek\" : \"Kelime türetmek veya çekimlemek için kullanılan, kelimenin başına, sonuna veya içine eklenebilen, kendi başına anlamı olmayan dil ögesi\" , \"Bağlaç\" : \"Eş görevli kelimeleri veya söz dizimi unsurlarını birbirine bağlayan kelime türü.\" , \"Zamir\" : \"Kişi, dönüşlülük, gösterme, soru ve belirsizlik anlamı vererek adların yerini tutan söz.\" , \"Kip\" : \"Çekimli fiilin bildirdiği oluş ve kılışın; konuşan, dinleyen veya kendisinden söz edilen şahıslar açısından ne biçimde, ne tarzda olacağını gösteren kategori.\" , \"Fiilimsi\" : \"Olumlu veya olumsuz fiillere belirli ekler getirilerek yapılan, geçici isim, sıfat, zarf olarak kullanılan ad-fiil, sıfat-fiil ve zarf-fiilin genel adı.\" , \"Yüklem\" : \"Cümlede iş, oluş ve yargıyı bildiren çekime girmiş kelimenin söz dizimindeki adı.\" , \"Tümleç\" : \"Yüklemin anlamını çeşitli yönlerden tamamlayan öge.\" , \"Sözcük\" : \"kelime\"}\n"
      ]
    },
    {
      "cell_type": "code",
      "source": [
        "#Sözlüğün yazdırılması\n",
        "print(sozluk)"
      ],
      "metadata": {
        "colab": {
          "base_uri": "https://localhost:8080/"
        },
        "id": "CDs4-hMuwUDC",
        "outputId": "ad270145-a027-4648-b4fd-b4be5b24ad6d"
      },
      "execution_count": 15,
      "outputs": [
        {
          "output_type": "stream",
          "name": "stdout",
          "text": [
            "{'Fiil': 'eylem.', 'İsim': 'ad.', 'Ek': 'Kelime türetmek veya çekimlemek için kullanılan, kelimenin başına, sonuna veya içine eklenebilen, kendi başına anlamı olmayan dil ögesi', 'Bağlaç': 'Eş görevli kelimeleri veya söz dizimi unsurlarını birbirine bağlayan kelime türü.', 'Zamir': 'Kişi, dönüşlülük, gösterme, soru ve belirsizlik anlamı vererek adların yerini tutan söz.', 'Kip': 'Çekimli fiilin bildirdiği oluş ve kılışın; konuşan, dinleyen veya kendisinden söz edilen şahıslar açısından ne biçimde, ne tarzda olacağını gösteren kategori.', 'Fiilimsi': 'Olumlu veya olumsuz fiillere belirli ekler getirilerek yapılan, geçici isim, sıfat, zarf olarak kullanılan ad-fiil, sıfat-fiil ve zarf-fiilin genel adı.', 'Yüklem': 'Cümlede iş, oluş ve yargıyı bildiren çekime girmiş kelimenin söz dizimindeki adı.', 'Tümleç': 'Yüklemin anlamını çeşitli yönlerden tamamlayan öge.', 'Sözcük': 'kelime'}\n"
          ]
        }
      ]
    },
    {
      "cell_type": "code",
      "source": [
        "#Sözlüğe yeni öğe eklenmesi\n",
        "kelime = input(\"Yeni eklenecek kelimeyi giriniz: \")\n",
        "aciklama = input(\"Yeni kelimenin açıklamasını giriniz: \")\n",
        "sozluk[kelime] = aciklama\n",
        "print(sozluk)"
      ],
      "metadata": {
        "colab": {
          "base_uri": "https://localhost:8080/"
        },
        "id": "GvCsanSyxJ-B",
        "outputId": "91bc05d2-bd88-4a8b-ea97-d0c18d317f15"
      },
      "execution_count": 13,
      "outputs": [
        {
          "output_type": "stream",
          "name": "stdout",
          "text": [
            "Yeni eklenecek kelimeyi giriniz: özne\n",
            "Yeni kelimenin açıklamasını giriniz: Cümlede yüklemin belirttiği işi yapan veya bir oluşa konu olan öge\n",
            "{'Fiil': 'eylem.', 'İsim': 'ad.', 'Ek': 'Kelime türetmek veya çekimlemek için kullanılan, kelimenin başına, sonuna veya içine eklenebilen, kendi başına anlamı olmayan dil ögesi', 'Bağlaç': 'Eş görevli kelimeleri veya söz dizimi unsurlarını birbirine bağlayan kelime türü.', 'Zamir': 'Kişi, dönüşlülük, gösterme, soru ve belirsizlik anlamı vererek adların yerini tutan söz.', 'Kip': 'Çekimli fiilin bildirdiği oluş ve kılışın; konuşan, dinleyen veya kendisinden söz edilen şahıslar açısından ne biçimde, ne tarzda olacağını gösteren kategori.', 'Fiilimsi': 'Olumlu veya olumsuz fiillere belirli ekler getirilerek yapılan, geçici isim, sıfat, zarf olarak kullanılan ad-fiil, sıfat-fiil ve zarf-fiilin genel adı.', 'Yüklem': 'Cümlede iş, oluş ve yargıyı bildiren çekime girmiş kelimenin söz dizimindeki adı.', 'Tümleç': 'Yüklemin anlamını çeşitli yönlerden tamamlayan öge.', 'Sözcük': 'kelime', 'özne': 'Cümlede yüklemin belirttiği işi yapan veya bir oluşa konu olan öge'}\n"
          ]
        }
      ]
    },
    {
      "cell_type": "code",
      "source": [
        "#Sözlükteki bir öğenin silinmesi\n",
        "print(sozluk)\n",
        "silinecek = (input(\"Silmek istediğiniz kelimeyi giriniz: \"))\n",
        "print(\"Silinecek kelime : \")\n",
        "del sozluk[silinecek]\n",
        "print(\"Silme tamamlandı\")\n",
        "print(sozluk)"
      ],
      "metadata": {
        "colab": {
          "base_uri": "https://localhost:8080/"
        },
        "id": "Dwua1jmmxxft",
        "outputId": "b3147428-af0c-4976-c44e-092e02139d7d"
      },
      "execution_count": null,
      "outputs": [
        {
          "output_type": "stream",
          "name": "stdout",
          "text": [
            "{'Fiil': 'eylem.', 'İsim': 'ad.', 'Ek': 'Kelime türetmek veya çekimlemek için kullanılan, kelimenin başına, sonuna veya içine eklenebilen, kendi başına anlamı olmayan dil ögesi', 'Bağlaç': 'Eş görevli kelimeleri veya söz dizimi unsurlarını birbirine bağlayan kelime türü.', 'Zamir': 'Kişi, dönüşlülük, gösterme, soru ve belirsizlik anlamı vererek adların yerini tutan söz.', 'Kip': 'Çekimli fiilin bildirdiği oluş ve kılışın; konuşan, dinleyen veya kendisinden söz edilen şahıslar açısından ne biçimde, ne tarzda olacağını gösteren kategori.', 'Fiilimsi': 'Olumlu veya olumsuz fiillere belirli ekler getirilerek yapılan, geçici isim, sıfat, zarf olarak kullanılan ad-fiil, sıfat-fiil ve zarf-fiilin genel adı.', 'Yüklem': 'Cümlede iş, oluş ve yargıyı bildiren çekime girmiş kelimenin söz dizimindeki adı.', 'Tümleç': 'Yüklemin anlamını çeşitli yönlerden tamamlayan öge.', 'Sözcük': 'kelime', 'özne': 'Cümlede yüklemin belirttiği işi yapan veya bir oluşa konu olan öge'}\n",
            "Silmek istediğiniz kelimeyi giriniz: Fiil\n",
            "Silinecek kelime : \n",
            "Silme tamamlandı\n",
            "{'İsim': 'ad.', 'Ek': 'Kelime türetmek veya çekimlemek için kullanılan, kelimenin başına, sonuna veya içine eklenebilen, kendi başına anlamı olmayan dil ögesi', 'Bağlaç': 'Eş görevli kelimeleri veya söz dizimi unsurlarını birbirine bağlayan kelime türü.', 'Zamir': 'Kişi, dönüşlülük, gösterme, soru ve belirsizlik anlamı vererek adların yerini tutan söz.', 'Kip': 'Çekimli fiilin bildirdiği oluş ve kılışın; konuşan, dinleyen veya kendisinden söz edilen şahıslar açısından ne biçimde, ne tarzda olacağını gösteren kategori.', 'Fiilimsi': 'Olumlu veya olumsuz fiillere belirli ekler getirilerek yapılan, geçici isim, sıfat, zarf olarak kullanılan ad-fiil, sıfat-fiil ve zarf-fiilin genel adı.', 'Yüklem': 'Cümlede iş, oluş ve yargıyı bildiren çekime girmiş kelimenin söz dizimindeki adı.', 'Tümleç': 'Yüklemin anlamını çeşitli yönlerden tamamlayan öge.', 'Sözcük': 'kelime', 'özne': 'Cümlede yüklemin belirttiği işi yapan veya bir oluşa konu olan öge'}\n"
          ]
        }
      ]
    },
    {
      "cell_type": "code",
      "source": [
        "#Sözlükteki bir öğenin güncellenmesi\n",
        "print(sozluk)\n",
        "guncellenecek = (input(\"Güncellemek istediğiniz kelimeyi giriniz: \"))\n",
        "print(\"Güncellenecek kelime: \")\n",
        "guncelSozluk = input(\"Güncel kelime bilgisini giriniz: \")\n",
        "sozluk[guncellenecek] = guncelSozluk\n",
        "print(\"Güncelleme tamamlandı\")\n",
        "print(sozluk)\n"
      ],
      "metadata": {
        "colab": {
          "base_uri": "https://localhost:8080/"
        },
        "id": "3uHRx3yIyrwF",
        "outputId": "655e9cf4-4914-462e-f957-bacc00640665"
      },
      "execution_count": 19,
      "outputs": [
        {
          "output_type": "stream",
          "name": "stdout",
          "text": [
            "{'Fiil': 'eylem.', 'İsim': 'ad.', 'Ek': 'Kelime türetmek veya çekimlemek için kullanılan, kelimenin başına, sonuna veya içine eklenebilen, kendi başına anlamı olmayan dil ögesi', 'Bağlaç': 'Eş görevli kelimeleri veya söz dizimi unsurlarını birbirine bağlayan kelime türü.', 'Zamir': 'Kişi, dönüşlülük, gösterme, soru ve belirsizlik anlamı vererek adların yerini tutan söz.', 'Kip': 'Çekimli fiilin bildirdiği oluş ve kılışın; konuşan, dinleyen veya kendisinden söz edilen şahıslar açısından ne biçimde, ne tarzda olacağını gösteren kategori.', 'Fiilimsi': 'Olumlu veya olumsuz fiillere belirli ekler getirilerek yapılan, geçici isim, sıfat, zarf olarak kullanılan ad-fiil, sıfat-fiil ve zarf-fiilin genel adı.', 'Yüklem': 'Cümlede iş, oluş ve yargıyı bildiren çekime girmiş kelimenin söz dizimindeki adı.', 'Tümleç': 'Yüklemin anlamını çeşitli yönlerden tamamlayan öge.', 'Sözcük': 'kelime', 'takviye': 'ek'}\n",
            "Güncellemek istediğiniz kelimeyi giriniz: Ek\n",
            "Güncellenecek kelime: \n",
            "Güncel kelime bilgisini giriniz: Takviye\n",
            "Güncelleme tamamlandı\n",
            "{'Fiil': 'eylem.', 'İsim': 'ad.', 'Ek': 'Takviye', 'Bağlaç': 'Eş görevli kelimeleri veya söz dizimi unsurlarını birbirine bağlayan kelime türü.', 'Zamir': 'Kişi, dönüşlülük, gösterme, soru ve belirsizlik anlamı vererek adların yerini tutan söz.', 'Kip': 'Çekimli fiilin bildirdiği oluş ve kılışın; konuşan, dinleyen veya kendisinden söz edilen şahıslar açısından ne biçimde, ne tarzda olacağını gösteren kategori.', 'Fiilimsi': 'Olumlu veya olumsuz fiillere belirli ekler getirilerek yapılan, geçici isim, sıfat, zarf olarak kullanılan ad-fiil, sıfat-fiil ve zarf-fiilin genel adı.', 'Yüklem': 'Cümlede iş, oluş ve yargıyı bildiren çekime girmiş kelimenin söz dizimindeki adı.', 'Tümleç': 'Yüklemin anlamını çeşitli yönlerden tamamlayan öge.', 'Sözcük': 'kelime', 'takviye': 'ek'}\n"
          ]
        }
      ]
    },
    {
      "cell_type": "code",
      "source": [
        "#Sözlükte arama yapılması\n",
        "print(\"isim\" in sozluk.keys())\n",
        "print(\"İsim\" in sozluk.keys())\n",
        "#Python da büyük-küçük harf duyarlılığı olduğu için ilk girdiğim kelimeyi doğru saymadı.\n",
        "sozluk[\"özne\"]"
      ],
      "metadata": {
        "colab": {
          "base_uri": "https://localhost:8080/",
          "height": 73
        },
        "id": "qCDhRXXgAi3N",
        "outputId": "e9064ae9-8033-4954-c659-365470520e4c"
      },
      "execution_count": null,
      "outputs": [
        {
          "output_type": "stream",
          "name": "stdout",
          "text": [
            "False\n",
            "True\n"
          ]
        },
        {
          "output_type": "execute_result",
          "data": {
            "text/plain": [
              "'Cümlede yüklemin belirttiği işi yapan veya bir oluşa konu olan öge'"
            ],
            "application/vnd.google.colaboratory.intrinsic+json": {
              "type": "string"
            }
          },
          "metadata": {},
          "execution_count": 12
        }
      ]
    }
  ]
}