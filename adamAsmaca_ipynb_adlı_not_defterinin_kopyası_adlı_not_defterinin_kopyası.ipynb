{
  "nbformat": 4,
  "nbformat_minor": 0,
  "metadata": {
    "colab": {
      "provenance": [],
      "authorship_tag": "ABX9TyOholCDkFn8cw6zgmnBbDq0",
      "include_colab_link": true
    },
    "kernelspec": {
      "name": "python3",
      "display_name": "Python 3"
    },
    "language_info": {
      "name": "python"
    }
  },
  "cells": [
    {
      "cell_type": "markdown",
      "metadata": {
        "id": "view-in-github",
        "colab_type": "text"
      },
      "source": [
        "<a href=\"https://colab.research.google.com/github/sevvaldemetgul/hu-bby162-2024/blob/main/adamAsmaca_ipynb_adl%C4%B1_not_defterinin_kopyas%C4%B1_adl%C4%B1_not_defterinin_kopyas%C4%B1.ipynb\" target=\"_parent\"><img src=\"https://colab.research.google.com/assets/colab-badge.svg\" alt=\"Open In Colab\"/></a>"
      ]
    },
    {
      "cell_type": "code",
      "execution_count": null,
      "metadata": {
        "id": "PwjzG6kAxhMA"
      },
      "outputs": [],
      "source": [
        "print(\"Oyuna hoş geldiniz, eğlenceye hazır olun!\")"
      ]
    },
    {
      "cell_type": "code",
      "source": [
        "'''\n",
        "import random\n",
        "\n",
        "# Kelime listesi\n",
        "kelimeler = [\"eldiven\" , \"atkı\" , \"bere\" , \"kaşkol\" , \"şal\" , \"mont\" , \"kaban\" , \"bot\" , \"çizme\" , \"kazak\"]\n",
        "\n",
        "def kelime_sec():\n",
        "    return random.choice(kelimeler)\n",
        "\n",
        "def oyunu_baslat():\n",
        "    print(\"Adam Asmaca Oyununa Hoş Geldiniz!\\n\")\n",
        "    print(\"Oyuna başladınız! Lütfen bir zorluk seviyesi seçiniz:\")\n",
        "    print(\"1. Kolay (7 can)\")\n",
        "    print(\"2. Orta (5 can)\")\n",
        "    print(\"3. Zor (3 can)\")\n",
        "\n",
        "    while True:\n",
        "        secim = input(\"Zorluk seviyesini seçiniz (1/2/3): \")\n",
        "        if secim in [\"1\", \"2\", \"3\"]:\n",
        "            return int(secim)\n",
        "        else:\n",
        "            print(\"Geçersiz karakter. Lütfen 1, 2 veya 3 giriniz.\")\n",
        "\n",
        "def harfi_gosterilmis_kelime(kelime, tahmin_edilen_harfler):\n",
        "    return \"\".join([harf if harf in tahmin_edilen_harfler else \"_\" for harf in kelime])\n",
        "\n",
        "def oyun():\n",
        "    canlar = {1: 7, 2: 5, 3: 3}\n",
        "    secilen_kelime = kelime_sec()\n",
        "    tahmin_edilen_harfler = []\n",
        "    kalan_can = canlar[oyunu_baslat()]\n",
        "\n",
        "    while kalan_can > 0:\n",
        "        print(\"\\nKelime:\", harfi_gosterilmis_kelime(secilen_kelime, tahmin_edilen_harfler))\n",
        "        tahmin = input(\"Bir harf tahmin ediniz: \").lower()\n",
        "\n",
        "        if tahmin in tahmin_edilen_harfler:\n",
        "            print(\"Bu harfi daha önce tahmin ettiniz.\")\n",
        "            continue\n",
        "\n",
        "        if tahmin in secilen_kelime:\n",
        "            tahmin_edilen_harfler.append(tahmin)\n",
        "            if set(tahmin_edilen_harfler) == set(secilen_kelime):\n",
        "                print(\"Tebrikler! Kelimeyi doğru tahmin!:\", secilen_kelime)\n",
        "                break\n",
        "        else:\n",
        "            kalan_can -= 1\n",
        "            print(\"Tahmininiz yanlış! Kalan can:\", kalan_can)\n",
        "\n",
        "    else:\n",
        "        print(\"Maalesef, tüm tahmin haklarınızı kullandınız. Doğru kelime:\", secilen_kelime)\n",
        "\n",
        "    tekrar_oyna = input(\"Tekrar oynamak ister misiniz? (Evet/Hayır): \").lower()\n",
        "    if tekrar_oyna == \"evet\":\n",
        "        oyun()\n",
        "    else:\n",
        "        print(\"Oyunu bitirdiniz.Görüşmek üzere!\")\n",
        "\n",
        "oyun() '''"
      ],
      "metadata": {
        "id": "75dvTz7fySRh"
      },
      "execution_count": null,
      "outputs": []
    },
    {
      "cell_type": "code",
      "source": [
        "import random\n",
        "\n",
        "# Kelime listesi\n",
        "kelimeler = [\"eldiven\" , \"atkı\" , \"bere\" , \"kaşkol\" , \"şal\" , \"mont\" , \"kaban\" , \"bot\" , \"çizme\" , \"kazak\"]\n",
        "\n",
        "def kelime_sec():\n",
        "    return random.choice(kelimeler)\n",
        "\n",
        "def oyun():\n",
        "    print(\"Adam Asmaca Oyununa Hoş Geldiniz!\\n\")\n",
        "    for _ in range(3):\n",
        "        print(\"Lütfen zorluk seviyenizi seçiniz:\")\n",
        "        print(\"1. Kolay (7 can)\")\n",
        "        print(\"2. Orta (5 can)\")\n",
        "        print(\"3. Zor (3 can)\")\n",
        "\n",
        "        secim = input(\"Zorluk seviyesini seçiniz (1/2/3): \")\n",
        "        while secim not in [\"1\", \"2\", \"3\"]:\n",
        "            print(\"Geçersiz karakter girdiniz. Lütfen 1, 2 veya 3 giriniz.\")\n",
        "            secim = input(\"Zorluk seviyesini seçiniz (1/2/3): \")\n",
        "\n",
        "        canlar = {\"1\": 7, \"2\": 5, \"3\": 3}\n",
        "        kalan_can = canlar[secim]\n",
        "        secilen_kelime = kelime_sec()\n",
        "        tahmin_edilen_harfler = set()\n",
        "\n",
        "        while kalan_can > 0:\n",
        "            kelime_goster = ''.join([harf if harf in tahmin_edilen_harfler else '_' for harf in secilen_kelime])\n",
        "            print(\"\\nKelime:\", kelime_goster)\n",
        "            tahmin = input(\"Bir harf tahmin ediniz: \").lower()\n",
        "\n",
        "            if tahmin in tahmin_edilen_harfler:\n",
        "                print(\"Bu harfi daha önce tahmin etmiştiniz!!!\")\n",
        "                continue\n",
        "\n",
        "            tahmin_edilen_harfler.add(tahmin)\n",
        "\n",
        "            if tahmin not in secilen_kelime:\n",
        "                kalan_can -= 1\n",
        "                print(\"Yanlış tahminde bulundunuz! Kalan can:\", kalan_can)\n",
        "\n",
        "            if set(secilen_kelime) == tahmin_edilen_harfler:\n",
        "                print(\"Tebrikler! Kelimeyi doğru tahmin ettiniz:\", secilen_kelime)\n",
        "                break\n",
        "\n",
        "        else:\n",
        "            print(\"Maalesef, tüm haklarınızı kullandınız. Doğru kelime:\", secilen_kelime)\n",
        "\n",
        "        tekrar_oyna = input(\"Oyunu tekrar başlatmak ister misiniz? (Evet/Hayır): \").lower()\n",
        "        if tekrar_oyna != \"evet\":\n",
        "            print(\"Oyunu bitirdiniz. Görüşmek üzere!\")\n",
        "            break\n",
        "        else:\n",
        "            print(\"\\nYeni oyun başlıyor...\\n\")\n",
        "\n",
        "oyun()"
      ],
      "metadata": {
        "colab": {
          "base_uri": "https://localhost:8080/",
          "height": 1000
        },
        "id": "EduyzJyk26Ns",
        "outputId": "4ed422ea-7408-4f93-91a7-53fa199586d6"
      },
      "execution_count": null,
      "outputs": [
        {
          "output_type": "stream",
          "name": "stdout",
          "text": [
            "Adam Asmaca Oyununa Hoş Geldiniz!\n",
            "\n",
            "Lütfen zorluk seviyenizi seçiniz:\n",
            "1. Kolay (7 can)\n",
            "2. Orta (5 can)\n",
            "3. Zor (3 can)\n",
            "Zorluk seviyesini seçiniz (1/2/3): 1\n",
            "\n",
            "Kelime: _____\n",
            "Bir harf tahmin ediniz: e\n",
            "\n",
            "Kelime: ____e\n",
            "Bir harf tahmin ediniz: b\n",
            "Yanlış tahminde bulundunuz! Kalan can: 6\n",
            "\n",
            "Kelime: ____e\n",
            "Bir harf tahmin ediniz: a\n",
            "Yanlış tahminde bulundunuz! Kalan can: 5\n",
            "\n",
            "Kelime: ____e\n",
            "Bir harf tahmin ediniz: m\n",
            "\n",
            "Kelime: ___me\n",
            "Bir harf tahmin ediniz: ç\n",
            "\n",
            "Kelime: ç__me\n",
            "Bir harf tahmin ediniz: i\n",
            "\n",
            "Kelime: çi_me\n",
            "Bir harf tahmin ediniz: z\n",
            "\n",
            "Kelime: çizme\n",
            "Bir harf tahmin ediniz: z\n",
            "Bu harfi daha önce tahmin etmiştiniz!!!\n",
            "\n",
            "Kelime: çizme\n",
            "Bir harf tahmin ediniz: Ç\n",
            "Bu harfi daha önce tahmin etmiştiniz!!!\n",
            "\n",
            "Kelime: çizme\n"
          ]
        },
        {
          "output_type": "error",
          "ename": "KeyboardInterrupt",
          "evalue": "Interrupted by user",
          "traceback": [
            "\u001b[0;31m---------------------------------------------------------------------------\u001b[0m",
            "\u001b[0;31mKeyboardInterrupt\u001b[0m                         Traceback (most recent call last)",
            "\u001b[0;32m<ipython-input-2-15923a2fa51e>\u001b[0m in \u001b[0;36m<cell line: 56>\u001b[0;34m()\u001b[0m\n\u001b[1;32m     54\u001b[0m             \u001b[0mprint\u001b[0m\u001b[0;34m(\u001b[0m\u001b[0;34m\"\\nYeni oyun başlıyor...\\n\"\u001b[0m\u001b[0;34m)\u001b[0m\u001b[0;34m\u001b[0m\u001b[0;34m\u001b[0m\u001b[0m\n\u001b[1;32m     55\u001b[0m \u001b[0;34m\u001b[0m\u001b[0m\n\u001b[0;32m---> 56\u001b[0;31m \u001b[0moyun\u001b[0m\u001b[0;34m(\u001b[0m\u001b[0;34m)\u001b[0m\u001b[0;34m\u001b[0m\u001b[0;34m\u001b[0m\u001b[0m\n\u001b[0m",
            "\u001b[0;32m<ipython-input-2-15923a2fa51e>\u001b[0m in \u001b[0;36moyun\u001b[0;34m()\u001b[0m\n\u001b[1;32m     28\u001b[0m             \u001b[0mkelime_goster\u001b[0m \u001b[0;34m=\u001b[0m \u001b[0;34m''\u001b[0m\u001b[0;34m.\u001b[0m\u001b[0mjoin\u001b[0m\u001b[0;34m(\u001b[0m\u001b[0;34m[\u001b[0m\u001b[0mharf\u001b[0m \u001b[0;32mif\u001b[0m \u001b[0mharf\u001b[0m \u001b[0;32min\u001b[0m \u001b[0mtahmin_edilen_harfler\u001b[0m \u001b[0;32melse\u001b[0m \u001b[0;34m'_'\u001b[0m \u001b[0;32mfor\u001b[0m \u001b[0mharf\u001b[0m \u001b[0;32min\u001b[0m \u001b[0msecilen_kelime\u001b[0m\u001b[0;34m]\u001b[0m\u001b[0;34m)\u001b[0m\u001b[0;34m\u001b[0m\u001b[0;34m\u001b[0m\u001b[0m\n\u001b[1;32m     29\u001b[0m             \u001b[0mprint\u001b[0m\u001b[0;34m(\u001b[0m\u001b[0;34m\"\\nKelime:\"\u001b[0m\u001b[0;34m,\u001b[0m \u001b[0mkelime_goster\u001b[0m\u001b[0;34m)\u001b[0m\u001b[0;34m\u001b[0m\u001b[0;34m\u001b[0m\u001b[0m\n\u001b[0;32m---> 30\u001b[0;31m             \u001b[0mtahmin\u001b[0m \u001b[0;34m=\u001b[0m \u001b[0minput\u001b[0m\u001b[0;34m(\u001b[0m\u001b[0;34m\"Bir harf tahmin ediniz: \"\u001b[0m\u001b[0;34m)\u001b[0m\u001b[0;34m.\u001b[0m\u001b[0mlower\u001b[0m\u001b[0;34m(\u001b[0m\u001b[0;34m)\u001b[0m\u001b[0;34m\u001b[0m\u001b[0;34m\u001b[0m\u001b[0m\n\u001b[0m\u001b[1;32m     31\u001b[0m \u001b[0;34m\u001b[0m\u001b[0m\n\u001b[1;32m     32\u001b[0m             \u001b[0;32mif\u001b[0m \u001b[0mtahmin\u001b[0m \u001b[0;32min\u001b[0m \u001b[0mtahmin_edilen_harfler\u001b[0m\u001b[0;34m:\u001b[0m\u001b[0;34m\u001b[0m\u001b[0;34m\u001b[0m\u001b[0m\n",
            "\u001b[0;32m/usr/local/lib/python3.10/dist-packages/ipykernel/kernelbase.py\u001b[0m in \u001b[0;36mraw_input\u001b[0;34m(self, prompt)\u001b[0m\n\u001b[1;32m    849\u001b[0m                 \u001b[0;34m\"raw_input was called, but this frontend does not support input requests.\"\u001b[0m\u001b[0;34m\u001b[0m\u001b[0;34m\u001b[0m\u001b[0m\n\u001b[1;32m    850\u001b[0m             )\n\u001b[0;32m--> 851\u001b[0;31m         return self._input_request(str(prompt),\n\u001b[0m\u001b[1;32m    852\u001b[0m             \u001b[0mself\u001b[0m\u001b[0;34m.\u001b[0m\u001b[0m_parent_ident\u001b[0m\u001b[0;34m,\u001b[0m\u001b[0;34m\u001b[0m\u001b[0;34m\u001b[0m\u001b[0m\n\u001b[1;32m    853\u001b[0m             \u001b[0mself\u001b[0m\u001b[0;34m.\u001b[0m\u001b[0m_parent_header\u001b[0m\u001b[0;34m,\u001b[0m\u001b[0;34m\u001b[0m\u001b[0;34m\u001b[0m\u001b[0m\n",
            "\u001b[0;32m/usr/local/lib/python3.10/dist-packages/ipykernel/kernelbase.py\u001b[0m in \u001b[0;36m_input_request\u001b[0;34m(self, prompt, ident, parent, password)\u001b[0m\n\u001b[1;32m    893\u001b[0m             \u001b[0;32mexcept\u001b[0m \u001b[0mKeyboardInterrupt\u001b[0m\u001b[0;34m:\u001b[0m\u001b[0;34m\u001b[0m\u001b[0;34m\u001b[0m\u001b[0m\n\u001b[1;32m    894\u001b[0m                 \u001b[0;31m# re-raise KeyboardInterrupt, to truncate traceback\u001b[0m\u001b[0;34m\u001b[0m\u001b[0;34m\u001b[0m\u001b[0m\n\u001b[0;32m--> 895\u001b[0;31m                 \u001b[0;32mraise\u001b[0m \u001b[0mKeyboardInterrupt\u001b[0m\u001b[0;34m(\u001b[0m\u001b[0;34m\"Interrupted by user\"\u001b[0m\u001b[0;34m)\u001b[0m \u001b[0;32mfrom\u001b[0m \u001b[0;32mNone\u001b[0m\u001b[0;34m\u001b[0m\u001b[0;34m\u001b[0m\u001b[0m\n\u001b[0m\u001b[1;32m    896\u001b[0m             \u001b[0;32mexcept\u001b[0m \u001b[0mException\u001b[0m \u001b[0;32mas\u001b[0m \u001b[0me\u001b[0m\u001b[0;34m:\u001b[0m\u001b[0;34m\u001b[0m\u001b[0;34m\u001b[0m\u001b[0m\n\u001b[1;32m    897\u001b[0m                 \u001b[0mself\u001b[0m\u001b[0;34m.\u001b[0m\u001b[0mlog\u001b[0m\u001b[0;34m.\u001b[0m\u001b[0mwarning\u001b[0m\u001b[0;34m(\u001b[0m\u001b[0;34m\"Invalid Message:\"\u001b[0m\u001b[0;34m,\u001b[0m \u001b[0mexc_info\u001b[0m\u001b[0;34m=\u001b[0m\u001b[0;32mTrue\u001b[0m\u001b[0;34m)\u001b[0m\u001b[0;34m\u001b[0m\u001b[0;34m\u001b[0m\u001b[0m\n",
            "\u001b[0;31mKeyboardInterrupt\u001b[0m: Interrupted by user"
          ]
        }
      ]
    }
  ]
}