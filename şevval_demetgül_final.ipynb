{
  "nbformat": 4,
  "nbformat_minor": 0,
  "metadata": {
    "colab": {
      "provenance": [],
      "include_colab_link": true
    },
    "kernelspec": {
      "name": "python3",
      "display_name": "Python 3"
    },
    "language_info": {
      "name": "python"
    }
  },
  "cells": [
    {
      "cell_type": "markdown",
      "metadata": {
        "id": "view-in-github",
        "colab_type": "text"
      },
      "source": [
        "<a href=\"https://colab.research.google.com/github/sevvaldemetgul/hu-bby162-2024/blob/main/%C5%9Fevval_demetg%C3%BCl_final.ipynb\" target=\"_parent\"><img src=\"https://colab.research.google.com/assets/colab-badge.svg\" alt=\"Open In Colab\"/></a>"
      ]
    },
    {
      "cell_type": "markdown",
      "source": [
        "**Final Sınavına hoşgeldiniz!**"
      ],
      "metadata": {
        "id": "ItmuxWgBbkC1"
      }
    },
    {
      "cell_type": "markdown",
      "source": [
        "Canlı final sınavı, bilgisayar laboratuvarında bilgisayar başında yapılan ve teslim edilen sınavı ifade etmektedir. Canlı final sınavında yazmış olduğunuz kodlar sizin sorumluluğunuzdadır ve gerekirse hangi kodu neden yazdığınızı açık bir şekilde anlatabilmeniz gerekmektedir. Canlı final sınavı sırasında İnternet üzerindeki kaynaklar kullanılabilir ancak başka bir kişiden destek alınamaz.\n",
        "\n",
        "Canlı final sınavının teslim şekli önceki sınav ve projelerin teslim şekli ile aynıdır. \"Final Sınavı\" adlı Colab not defterinin bir kopyasını çıkarmalı, size ait olan bu kopya üzerinde soruları cevaplamalı, GitHub'daki ders deponuza size ait kopyayı yüklemeli ve not defterinin adresini metin alanına yazarak göndermelisiniz.\n",
        "\n",
        "Canlı final sınavının doğru şekilde tamamlanması da sınavın önemli bir parçasıdır. Sınav için gönderdiğiniz adresi kontrol ediniz ve doğru dosyayı depoya yerleştirdiği bizden emin olunuz. Teslim sürecinde yapılan hatalar sınavdan 0 puan almanıza yol açabilir!\n",
        "\n",
        "**Sınav süresi 60 dakikadır!**\n",
        "\n",
        "Önemli Not: Soruları cecaplarken sadece şu ana kadar öğrendiğiniz kod yapılarını kullanmanız gerekmektedir!!!"
      ],
      "metadata": {
        "id": "KGjdjR5RbTgH"
      }
    },
    {
      "cell_type": "markdown",
      "source": [
        "**----- Sorular -----**"
      ],
      "metadata": {
        "id": "zBvdh4s8cOqM"
      }
    },
    {
      "cell_type": "markdown",
      "source": [
        "**Soru 1:** Kod bölümünde yer alan listeyi ekrana aşağıda gösterildiği şekilde \"for\" döngüsü kullanarak yazdırın. Her kelimenin başındaki numara otomatik olarak verilmelidir. (5 Puan)\n",
        "\n",
        "1.   Açık Erişim\n",
        "2.   Açık Bilim\n",
        "3.   Açık Veri\n",
        "4.   Açık Eğitim\n",
        "5.   Açık Kültür"
      ],
      "metadata": {
        "id": "ma0FVqgQiLBe"
      }
    },
    {
      "cell_type": "code",
      "source": [
        "#Soru 1 bu bölümde kodlanmalıdır\n",
        "acikListe = [\"Açık Erişim\", \"Açık Bilim\", \"Açık Veri\", \"Açık Eğitim\", \"Açık Kültür\"]\n",
        "\n",
        "for i in range(len(acikListe)):\n",
        "    print(f\"{i+1}. {acikListe[i]}\")\n",
        "\n",
        "\n",
        "\n"
      ],
      "metadata": {
        "id": "Fj7wkLMcjp_7",
        "colab": {
          "base_uri": "https://localhost:8080/"
        },
        "outputId": "b18538ff-0d80-452d-b6c8-fe2da2da362d"
      },
      "execution_count": 2,
      "outputs": [
        {
          "output_type": "stream",
          "name": "stdout",
          "text": [
            "1. Açık Erişim\n",
            "2. Açık Bilim\n",
            "3. Açık Veri\n",
            "4. Açık Eğitim\n",
            "5. Açık Kültür\n"
          ]
        }
      ]
    },
    {
      "cell_type": "markdown",
      "source": [
        "**Soru 2:** Kod bölümünde yer alan boş sözlüğe klavyeden yeni veri ekleyecek kodu yazınız. Yeni veri hem anahtarı (key) hem de anahtara karşılık gelecek değerli (value) içermelidir. Veri girişi yapıldıktan sonra sözlüğün güncel hali de ekrana yazıdırılmalıdır. (5 Puan)"
      ],
      "metadata": {
        "id": "uZDiXJARgK4o"
      }
    },
    {
      "cell_type": "code",
      "source": [
        "#Soru 2 bu bölümde kodlanmalıdır\n",
        "sozluk = {}\n",
        "\n",
        "while True:\n",
        "    anahtar = input(\"Yeni verinin anahtarını (key) girin (Çıkmak için 'exit' yazın): \")\n",
        "\n",
        "    if anahtar.lower() == \"exit\":\n",
        "        print(\"Çıkış yapıldı! Veri girişi sonlandı.\")\n",
        "        break\n",
        "\n",
        "    deger = input(\"Yeni verinin değerini (value) girin: \")\n",
        "    sozluk[anahtar] = deger\n",
        "\n",
        "    print(\"Güncel sözlük:\")\n",
        "    print(sozluk)\n",
        "\n",
        "\n"
      ],
      "metadata": {
        "id": "no7Zd1ZCh5U3",
        "colab": {
          "base_uri": "https://localhost:8080/"
        },
        "outputId": "727f810b-9616-4902-c2cb-190eb729df49"
      },
      "execution_count": 6,
      "outputs": [
        {
          "output_type": "stream",
          "name": "stdout",
          "text": [
            "Yeni verinin anahtarını (key) girin (Çıkmak için 'exit' yazın): Orçun hoca\n",
            "Yeni verinin değerini (value) girin: Programlama ve algoritma\n",
            "Güncel sözlük:\n",
            "{'Orçun hoca': 'Programlama ve algoritma'}\n",
            "Yeni verinin anahtarını (key) girin (Çıkmak için 'exit' yazın): Umut hoca\n",
            "Yeni verinin değerini (value) girin: Bilimsel iletişim\n",
            "Güncel sözlük:\n",
            "{'Orçun hoca': 'Programlama ve algoritma', 'Umut hoca': 'Bilimsel iletişim'}\n",
            "Yeni verinin anahtarını (key) girin (Çıkmak için 'exit' yazın): İrem hoca\n",
            "Yeni verinin değerini (value) girin: Bilgi hizmetleri, Bilgi erişim\n",
            "Güncel sözlük:\n",
            "{'Orçun hoca': 'Programlama ve algoritma', 'Umut hoca': 'Bilimsel iletişim', 'İrem hoca': 'Bilgi hizmetleri, Bilgi erişim'}\n",
            "Yeni verinin anahtarını (key) girin (Çıkmak için 'exit' yazın): exit\n",
            "Çıkış yapıldı! Veri girişi sonlandı.\n"
          ]
        }
      ]
    },
    {
      "cell_type": "markdown",
      "source": [
        " **Soru 3:** Herhangi bir metin dosyasında (ör: veri.txt) satır satır yer alan verileri okuyup ekrana satır satır yazdıracak kodu yazınız. (10 puan)"
      ],
      "metadata": {
        "id": "-axprf2EJIfd"
      }
    },
    {
      "cell_type": "code",
      "source": [
        "#Soru 3 bu bölümde kodlanmalıdır\n",
        "# Dosya oluşturma\n",
        "with open('veri.txt', 'w') as f:\n",
        "  f.write('1.satır\\n')\n",
        "  f.write('2.satır\\n')\n",
        "  f.write('3.satır\\n')\n",
        "  f.write('4.satır\\n')\n",
        "  f.write('Son satır')\n",
        "\n",
        "# Dosya okuma\n",
        "with open('veri.txt', 'r') as f:\n",
        "  for line in f:\n",
        "    print(line.strip())\n"
      ],
      "metadata": {
        "id": "SjzG5g3ffTyv",
        "colab": {
          "base_uri": "https://localhost:8080/"
        },
        "outputId": "e5e36e55-46b2-4dba-ed28-2ef840c53e74"
      },
      "execution_count": 24,
      "outputs": [
        {
          "output_type": "stream",
          "name": "stdout",
          "text": [
            "1.satır\n",
            "2.satır\n",
            "3.satır\n",
            "4.satır\n",
            "Son satır\n"
          ]
        }
      ]
    },
    {
      "cell_type": "markdown",
      "source": [
        "**Soru 4:** Verilerin bir TXT dosyasında depolanabileceği basit bir adres defteri oluşturunuz. Adres defterindeki öğeler Ad-Soyad ve e-Posta olacaktır. Bu adres desteri uygulamasında bir menü yapısı (uygulama içinde fonksiyolar) olmalıdır. 1. seçenek adres defterindeki girişleri göstermeli, 2. seçenek adres defterine yeni veri eklemeli, 3. seçenek ise uygulamayı sonlandırmalıdır. (20 Puan)"
      ],
      "metadata": {
        "id": "p49cZFjJcXoS"
      }
    },
    {
      "cell_type": "code",
      "execution_count": 16,
      "metadata": {
        "id": "3whYCDz3a8QZ",
        "colab": {
          "base_uri": "https://localhost:8080/"
        },
        "outputId": "3973084c-4cfb-4838-afe3-5bbf70e02da9"
      },
      "outputs": [
        {
          "output_type": "stream",
          "name": "stdout",
          "text": [
            "\n",
            "Adres Defteri Uygulaması\n",
            "1. Adres defterindeki girişleri göster\n",
            "2. Adres defterine yeni veri ekle\n",
            "3. Uygulamadan çık\n",
            "Seçiminizi yapın: 2\n",
            "Ad-Soyad: Şevval DEMETGÜL\n",
            "E-Posta: sevvaldemetgul1106@gmail.com\n",
            "Yeni veri adres defterine eklendi.\n",
            "\n",
            "Adres Defteri Uygulaması\n",
            "1. Adres defterindeki girişleri göster\n",
            "2. Adres defterine yeni veri ekle\n",
            "3. Uygulamadan çık\n",
            "Seçiminizi yapın: Orçun MADRAN\n",
            "Geçersiz seçim. Lütfen tekrar deneyin.\n",
            "\n",
            "Adres Defteri Uygulaması\n",
            "1. Adres defterindeki girişleri göster\n",
            "2. Adres defterine yeni veri ekle\n",
            "3. Uygulamadan çık\n",
            "Seçiminizi yapın: 2\n",
            "Ad-Soyad: Orçun MADRAN\n",
            "E-Posta: omadran@gmail.com\n",
            "Yeni veri adres defterine eklendi.\n",
            "\n",
            "Adres Defteri Uygulaması\n",
            "1. Adres defterindeki girişleri göster\n",
            "2. Adres defterine yeni veri ekle\n",
            "3. Uygulamadan çık\n",
            "Seçiminizi yapın: 2\n",
            "Ad-Soyad: Umut AL\n",
            "E-Posta: umutal@gmail.com\n",
            "Yeni veri adres defterine eklendi.\n",
            "\n",
            "Adres Defteri Uygulaması\n",
            "1. Adres defterindeki girişleri göster\n",
            "2. Adres defterine yeni veri ekle\n",
            "3. Uygulamadan çık\n",
            "Seçiminizi yapın: 2\n",
            "Ad-Soyad: İrem SOYDAL\n",
            "E-Posta: soydal@gmail.com\n",
            "Yeni veri adres defterine eklendi.\n",
            "\n",
            "Adres Defteri Uygulaması\n",
            "1. Adres defterindeki girişleri göster\n",
            "2. Adres defterine yeni veri ekle\n",
            "3. Uygulamadan çık\n",
            "Seçiminizi yapın: 1\n",
            "Şevval Demetgül, sevvaldemetgul1106@gmail.com\n",
            "Orçun Madran, orcunmadran@gmail.com\n",
            "Umut Al, umutalQgmail.com\n",
            "İrem Soydal, soydal@gmail.com\n",
            "Şevval DEMETGÜL, sevvaldemetgul1106@gmail.com\n",
            "Orçun MADRAN, omadran@gmail.com\n",
            "Umut AL, umutal@gmail.com\n",
            "İrem SOYDAL, soydal@gmail.com\n",
            "\n",
            "Adres Defteri Uygulaması\n",
            "1. Adres defterindeki girişleri göster\n",
            "2. Adres defterine yeni veri ekle\n",
            "3. Uygulamadan çık\n",
            "Seçiminizi yapın: 3\n",
            "Uygulama bitti. Hoşçakalın.\n"
          ]
        }
      ],
      "source": [
        "#Soru 4 bu bölümde kodlanmalıdır\n",
        "def girdileri_goster():\n",
        "    try:\n",
        "        with open(\"adres_defteri.txt\", \"r\") as dosya:\n",
        "            for satir in dosya:\n",
        "                print(satir.strip())\n",
        "    except FileNotFoundError:\n",
        "        print(\"Adres defteri boş.\")\n",
        "\n",
        "def yeni_veri_ekle():\n",
        "    ad_soyad = input(\"Ad-Soyad: \")\n",
        "    e_posta = input(\"E-Posta: \")\n",
        "\n",
        "    with open(\"adres_defteri.txt\", \"a\") as dosya:\n",
        "        dosya.write(f\"{ad_soyad}, {e_posta}\\n\")\n",
        "\n",
        "    print(\"Yeni veri adres defterine eklendi.\")\n",
        "\n",
        "def uygulamayi_calistir():\n",
        "    while True:\n",
        "        print(\"\\nAdres Defteri Uygulaması\")\n",
        "        print(\"1. Adres defterindeki girişleri göster\")\n",
        "        print(\"2. Adres defterine yeni veri ekle\")\n",
        "        print(\"3. Uygulamadan çık\")\n",
        "\n",
        "        secim = input(\"Seçiminizi yapın: \")\n",
        "\n",
        "        if secim == \"1\":\n",
        "            girdileri_goster()\n",
        "        elif secim == \"2\":\n",
        "            yeni_veri_ekle()\n",
        "        elif secim == \"3\":\n",
        "            print(\"Uygulama bitti. Hoşçakalın.\")\n",
        "            break\n",
        "        else:\n",
        "            print(\"Geçersiz seçim. Lütfen tekrar deneyin.\")\n",
        "\n",
        "uygulamayi_calistir()\n"
      ]
    }
  ]
}