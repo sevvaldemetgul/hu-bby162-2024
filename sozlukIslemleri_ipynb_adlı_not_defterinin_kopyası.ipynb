{
  "nbformat": 4,
  "nbformat_minor": 0,
  "metadata": {
    "colab": {
      "provenance": [],
      "authorship_tag": "ABX9TyNGHsJyi4cLqXtebHduNsAl",
      "include_colab_link": true
    },
    "kernelspec": {
      "name": "python3",
      "display_name": "Python 3"
    },
    "language_info": {
      "name": "python"
    }
  },
  "cells": [
    {
      "cell_type": "markdown",
      "metadata": {
        "id": "view-in-github",
        "colab_type": "text"
      },
      "source": [
        "<a href=\"https://colab.research.google.com/github/sevvaldemetgul/hu-bby162-2024/blob/main/sozlukIslemleri_ipynb_adl%C4%B1_not_defterinin_kopyas%C4%B1.ipynb\" target=\"_parent\"><img src=\"https://colab.research.google.com/assets/colab-badge.svg\" alt=\"Open In Colab\"/></a>"
      ]
    },
    {
      "cell_type": "code",
      "execution_count": 14,
      "metadata": {
        "id": "f-772ULpmBd7"
      },
      "outputs": [],
      "source": [
        "#Sözlüğün oluşturulması\n",
        "#Konu: Dil bilgisi terimleri\n",
        "sozluk = {\"Fiil\" : \"eylem.\" , \"İsim\" : \"ad.\" , \"Ek\" : \"Kelime türetmek veya çekimlemek için kullanılan, kelimenin başına, sonuna veya içine eklenebilen, kendi başına anlamı olmayan dil ögesi\" , \"Bağlaç\" : \"Eş görevli kelimeleri veya söz dizimi unsurlarını birbirine bağlayan kelime türü.\" , \"Zamir\" : \"Kişi, dönüşlülük, gösterme, soru ve belirsizlik anlamı vererek adların yerini tutan söz.\" , \"Kip\" : \"Çekimli fiilin bildirdiği oluş ve kılışın; konuşan, dinleyen veya kendisinden söz edilen şahıslar açısından ne biçimde, ne tarzda olacağını gösteren kategori.\" , \"Fiilimsi\" : \"Olumlu veya olumsuz fiillere belirli ekler getirilerek yapılan, geçici isim, sıfat, zarf olarak kullanılan ad-fiil, sıfat-fiil ve zarf-fiilin genel adı.\" , \"Yüklem\" : \"Cümlede iş, oluş ve yargıyı bildiren çekime girmiş kelimenin söz dizimindeki adı.\" , \"Tümleç\" : \"Yüklemin anlamını çeşitli yönlerden tamamlayan öge.\" , \"Sözcük\" : \"kelime\"}\n"
      ]
    },
    {
      "cell_type": "code",
      "source": [
        "#Sözlüğün yazdırılması\n",
        "print(sozluk)"
      ],
      "metadata": {
        "colab": {
          "base_uri": "https://localhost:8080/"
        },
        "id": "CDs4-hMuwUDC",
        "outputId": "ab7f678d-2562-42f2-841d-a6cc0c9736a8"
      },
      "execution_count": 15,
      "outputs": [
        {
          "output_type": "stream",
          "name": "stdout",
          "text": [
            "{'Fiil': 'eylem.', 'İsim': 'ad.', 'Ek': 'Kelime türetmek veya çekimlemek için kullanılan, kelimenin başına, sonuna veya içine eklenebilen, kendi başına anlamı olmayan dil ögesi', 'Bağlaç': 'Eş görevli kelimeleri veya söz dizimi unsurlarını birbirine bağlayan kelime türü.', 'Zamir': 'Kişi, dönüşlülük, gösterme, soru ve belirsizlik anlamı vererek adların yerini tutan söz.', 'Kip': 'Çekimli fiilin bildirdiği oluş ve kılışın; konuşan, dinleyen veya kendisinden söz edilen şahıslar açısından ne biçimde, ne tarzda olacağını gösteren kategori.', 'Fiilimsi': 'Olumlu veya olumsuz fiillere belirli ekler getirilerek yapılan, geçici isim, sıfat, zarf olarak kullanılan ad-fiil, sıfat-fiil ve zarf-fiilin genel adı.', 'Yüklem': 'Cümlede iş, oluş ve yargıyı bildiren çekime girmiş kelimenin söz dizimindeki adı.', 'Tümleç': 'Yüklemin anlamını çeşitli yönlerden tamamlayan öge.', 'Sözcük': 'kelime'}\n"
          ]
        }
      ]
    },
    {
      "cell_type": "code",
      "source": [
        "#Sözlüğe yeni öğe eklenmesi\n",
        "kelime = input(\"Yeni eklenecek kelimeyi giriniz: \")\n",
        "aciklama = input(\"Yeni kelimenin açıklamasını giriniz: \")\n",
        "sozluk[kelime] = aciklama"
      ],
      "metadata": {
        "colab": {
          "base_uri": "https://localhost:8080/"
        },
        "id": "GvCsanSyxJ-B",
        "outputId": "aacde0fb-8b17-4047-8e84-46ba147c9978"
      },
      "execution_count": 16,
      "outputs": [
        {
          "name": "stdout",
          "output_type": "stream",
          "text": [
            "Yeni eklenecek kelimeyi giriniz: özne\n",
            "Yeni kelimenin açıklamasını giriniz: Cümlede yüklemin belirttiği işi yapan veya bir oluşa konu olan öge\n"
          ]
        }
      ]
    },
    {
      "cell_type": "code",
      "source": [
        "#Sözlükteki bir öğenin silinmesi\n",
        "print(sozluk)\n",
        "silinecek = (input(\"Silmek istediğiniz kelimeyi giriniz: \"))\n",
        "print(\"Silinecek kelime : \")\n",
        "del sozluk[silinecek]\n",
        "print(\"Silme tamamlandı\")\n",
        "print(sozluk)"
      ],
      "metadata": {
        "colab": {
          "base_uri": "https://localhost:8080/"
        },
        "id": "Dwua1jmmxxft",
        "outputId": "10d61109-3183-4ebe-b3d8-2f5742e79224"
      },
      "execution_count": 17,
      "outputs": [
        {
          "output_type": "stream",
          "name": "stdout",
          "text": [
            "{'Fiil': 'eylem.', 'İsim': 'ad.', 'Ek': 'Kelime türetmek veya çekimlemek için kullanılan, kelimenin başına, sonuna veya içine eklenebilen, kendi başına anlamı olmayan dil ögesi', 'Bağlaç': 'Eş görevli kelimeleri veya söz dizimi unsurlarını birbirine bağlayan kelime türü.', 'Zamir': 'Kişi, dönüşlülük, gösterme, soru ve belirsizlik anlamı vererek adların yerini tutan söz.', 'Kip': 'Çekimli fiilin bildirdiği oluş ve kılışın; konuşan, dinleyen veya kendisinden söz edilen şahıslar açısından ne biçimde, ne tarzda olacağını gösteren kategori.', 'Fiilimsi': 'Olumlu veya olumsuz fiillere belirli ekler getirilerek yapılan, geçici isim, sıfat, zarf olarak kullanılan ad-fiil, sıfat-fiil ve zarf-fiilin genel adı.', 'Yüklem': 'Cümlede iş, oluş ve yargıyı bildiren çekime girmiş kelimenin söz dizimindeki adı.', 'Tümleç': 'Yüklemin anlamını çeşitli yönlerden tamamlayan öge.', 'Sözcük': 'kelime', 'özne': 'Cümlede yüklemin belirttiği işi yapan veya bir oluşa konu olan öge'}\n",
            "Silmek istediğiniz kelimeyi giriniz: İsim\n",
            "Silinecek kelime : \n",
            "Silme tamamlandı\n",
            "{'Fiil': 'eylem.', 'Ek': 'Kelime türetmek veya çekimlemek için kullanılan, kelimenin başına, sonuna veya içine eklenebilen, kendi başına anlamı olmayan dil ögesi', 'Bağlaç': 'Eş görevli kelimeleri veya söz dizimi unsurlarını birbirine bağlayan kelime türü.', 'Zamir': 'Kişi, dönüşlülük, gösterme, soru ve belirsizlik anlamı vererek adların yerini tutan söz.', 'Kip': 'Çekimli fiilin bildirdiği oluş ve kılışın; konuşan, dinleyen veya kendisinden söz edilen şahıslar açısından ne biçimde, ne tarzda olacağını gösteren kategori.', 'Fiilimsi': 'Olumlu veya olumsuz fiillere belirli ekler getirilerek yapılan, geçici isim, sıfat, zarf olarak kullanılan ad-fiil, sıfat-fiil ve zarf-fiilin genel adı.', 'Yüklem': 'Cümlede iş, oluş ve yargıyı bildiren çekime girmiş kelimenin söz dizimindeki adı.', 'Tümleç': 'Yüklemin anlamını çeşitli yönlerden tamamlayan öge.', 'Sözcük': 'kelime', 'özne': 'Cümlede yüklemin belirttiği işi yapan veya bir oluşa konu olan öge'}\n"
          ]
        }
      ]
    },
    {
      "cell_type": "code",
      "source": [
        "#Sözlükteki bir öğenin güncellenmesi\n",
        "print(sozluk)\n",
        "guncellenecek = (input(\"Güncellemek istediğiniz kelimeyi giriniz: \"))\n",
        "print(\"Güncellenecek kelime: \")\n",
        "guncelSozluk = input(\"Güncel kelime bilgisini giriniz: \")\n",
        "sozluk[guncellenecek] = guncelSozluk\n",
        "print(\"Güncelleme tamamlandı\")\n",
        "print(sozluk)"
      ],
      "metadata": {
        "colab": {
          "base_uri": "https://localhost:8080/"
        },
        "id": "3uHRx3yIyrwF",
        "outputId": "bf33b2dd-8bf2-4de5-c25d-d587e522d0a9"
      },
      "execution_count": 18,
      "outputs": [
        {
          "output_type": "stream",
          "name": "stdout",
          "text": [
            "{'Fiil': 'eylem.', 'Ek': 'Kelime türetmek veya çekimlemek için kullanılan, kelimenin başına, sonuna veya içine eklenebilen, kendi başına anlamı olmayan dil ögesi', 'Bağlaç': 'Eş görevli kelimeleri veya söz dizimi unsurlarını birbirine bağlayan kelime türü.', 'Zamir': 'Kişi, dönüşlülük, gösterme, soru ve belirsizlik anlamı vererek adların yerini tutan söz.', 'Kip': 'Çekimli fiilin bildirdiği oluş ve kılışın; konuşan, dinleyen veya kendisinden söz edilen şahıslar açısından ne biçimde, ne tarzda olacağını gösteren kategori.', 'Fiilimsi': 'Olumlu veya olumsuz fiillere belirli ekler getirilerek yapılan, geçici isim, sıfat, zarf olarak kullanılan ad-fiil, sıfat-fiil ve zarf-fiilin genel adı.', 'Yüklem': 'Cümlede iş, oluş ve yargıyı bildiren çekime girmiş kelimenin söz dizimindeki adı.', 'Tümleç': 'Yüklemin anlamını çeşitli yönlerden tamamlayan öge.', 'Sözcük': 'kelime', 'özne': 'Cümlede yüklemin belirttiği işi yapan veya bir oluşa konu olan öge'}\n",
            "Güncellemek istediğiniz kelimeyi giriniz: Ek\n",
            "Güncellenecek kelime: \n",
            "Güncel kelime bilgisini giriniz: Takviye\n",
            "Güncelleme tamamlandı\n",
            "{'Fiil': 'eylem.', 'Ek': 'Takviye', 'Bağlaç': 'Eş görevli kelimeleri veya söz dizimi unsurlarını birbirine bağlayan kelime türü.', 'Zamir': 'Kişi, dönüşlülük, gösterme, soru ve belirsizlik anlamı vererek adların yerini tutan söz.', 'Kip': 'Çekimli fiilin bildirdiği oluş ve kılışın; konuşan, dinleyen veya kendisinden söz edilen şahıslar açısından ne biçimde, ne tarzda olacağını gösteren kategori.', 'Fiilimsi': 'Olumlu veya olumsuz fiillere belirli ekler getirilerek yapılan, geçici isim, sıfat, zarf olarak kullanılan ad-fiil, sıfat-fiil ve zarf-fiilin genel adı.', 'Yüklem': 'Cümlede iş, oluş ve yargıyı bildiren çekime girmiş kelimenin söz dizimindeki adı.', 'Tümleç': 'Yüklemin anlamını çeşitli yönlerden tamamlayan öge.', 'Sözcük': 'kelime', 'özne': 'Cümlede yüklemin belirttiği işi yapan veya bir oluşa konu olan öge'}\n"
          ]
        }
      ]
    }
  ]
}