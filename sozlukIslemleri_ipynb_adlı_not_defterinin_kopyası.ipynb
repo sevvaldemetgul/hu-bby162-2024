{
  "nbformat": 4,
  "nbformat_minor": 0,
  "metadata": {
    "colab": {
      "provenance": [],
      "authorship_tag": "ABX9TyNGHsJyi4cLqXtebHduNsAl",
      "include_colab_link": true
    },
    "kernelspec": {
      "name": "python3",
      "display_name": "Python 3"
    },
    "language_info": {
      "name": "python"
    }
  },
  "cells": [
    {
      "cell_type": "markdown",
      "metadata": {
        "id": "view-in-github",
        "colab_type": "text"
      },
      "source": [
        "<a href=\"https://colab.research.google.com/github/sevvaldemetgul/hu-bby162-2024/blob/main/sozlukIslemleri_ipynb_adl%C4%B1_not_defterinin_kopyas%C4%B1.ipynb\" target=\"_parent\"><img src=\"https://colab.research.google.com/assets/colab-badge.svg\" alt=\"Open In Colab\"/></a>"
      ]
    },
    {
      "cell_type": "code",
      "execution_count": null,
      "metadata": {
        "id": "f-772ULpmBd7"
      },
      "outputs": [],
      "source": [
        "#Sözlüğün oluşturulması\n",
        "#Konu: Dil bilgisi terimleri\n",
        "sozluk = {\"Fiil\" : \"eylem.\" , \"İsim\" : \"ad.\" , \"Ek\" : \"Kelime türetmek veya çekimlemek için kullanılan, kelimenin başına, sonuna veya içine eklenebilen, kendi başına anlamı olmayan dil ögesi\" , \"Bağlaç\" : \"Eş görevli kelimeleri veya söz dizimi unsurlarını birbirine bağlayan kelime türü.\" , \"Zamir\" : \"Kişi, dönüşlülük, gösterme, soru ve belirsizlik anlamı vererek adların yerini tutan söz.\" , \"Kip\" : \"Çekimli fiilin bildirdiği oluş ve kılışın; konuşan, dinleyen veya kendisinden söz edilen şahıslar açısından ne biçimde, ne tarzda olacağını gösteren kategori.\" , \"Fiilimsi\" : \"Olumlu veya olumsuz fiillere belirli ekler getirilerek yapılan, geçici isim, sıfat, zarf olarak kullanılan ad-fiil, sıfat-fiil ve zarf-fiilin genel adı.\" , \"Yüklem\" : \"Cümlede iş, oluş ve yargıyı bildiren çekime girmiş kelimenin söz dizimindeki adı.\" , \"Tümleç\" : \"Yüklemin anlamını çeşitli yönlerden tamamlayan öge.\" , \"Sözcük\" : \"kelime\"}\n"
      ]
    },
    {
      "cell_type": "code",
      "source": [
        "#Sözlüğün yazdırılması\n",
        "print(sozluk)"
      ],
      "metadata": {
        "colab": {
          "base_uri": "https://localhost:8080/"
        },
        "id": "CDs4-hMuwUDC",
        "outputId": "04c4ed01-b25c-4e6f-db03-a76da1b3e598"
      },
      "execution_count": null,
      "outputs": [
        {
          "output_type": "stream",
          "name": "stdout",
          "text": [
            "{'Fiil': 'eylem.', 'İsim': 'ad.', 'Ek': 'Kelime türetmek veya çekimlemek için kullanılan, kelimenin başına, sonuna veya içine eklenebilen, kendi başına anlamı olmayan dil ögesi', 'Bağlaç': 'Eş görevli kelimeleri veya söz dizimi unsurlarını birbirine bağlayan kelime türü.', 'Zamir': 'Kişi, dönüşlülük, gösterme, soru ve belirsizlik anlamı vererek adların yerini tutan söz.', 'Kip': 'Çekimli fiilin bildirdiği oluş ve kılışın; konuşan, dinleyen veya kendisinden söz edilen şahıslar açısından ne biçimde, ne tarzda olacağını gösteren kategori.', 'Fiilimsi': 'Olumlu veya olumsuz fiillere belirli ekler getirilerek yapılan, geçici isim, sıfat, zarf olarak kullanılan ad-fiil, sıfat-fiil ve zarf-fiilin genel adı.', 'Yüklem': 'Cümlede iş, oluş ve yargıyı bildiren çekime girmiş kelimenin söz dizimindeki adı.', 'Tümleç': 'Yüklemin anlamını çeşitli yönlerden tamamlayan öge.', 'Sözcük': 'kelime'}\n"
          ]
        }
      ]
    },
    {
      "cell_type": "code",
      "source": [
        "#Sözlüğe yeni öğe eklenmesi\n",
        "kelime = input(\"Yeni eklenecek kelimeyi giriniz: \")\n",
        "aciklama = input(\"Yeni kelimenin açıklamasını giriniz: \")\n",
        "sozluk[kelime] = aciklama"
      ],
      "metadata": {
        "colab": {
          "base_uri": "https://localhost:8080/",
          "height": 222
        },
        "id": "GvCsanSyxJ-B",
        "outputId": "bacd4fc8-3e7a-46e4-99ae-e4544eb311dd"
      },
      "execution_count": 13,
      "outputs": [
        {
          "name": "stdout",
          "output_type": "stream",
          "text": [
            "Yeni eklenecek kelimeyi giriniz: özne\n",
            "Yeni kelimenin açıklamasını giriniz: Cümlede yüklemin belirttiği işi yapan veya bir oluşa konu olan öge\n"
          ]
        },
        {
          "output_type": "error",
          "ename": "TypeError",
          "evalue": "'str' object does not support item assignment",
          "traceback": [
            "\u001b[0;31m---------------------------------------------------------------------------\u001b[0m",
            "\u001b[0;31mTypeError\u001b[0m                                 Traceback (most recent call last)",
            "\u001b[0;32m<ipython-input-13-d421153f29ff>\u001b[0m in \u001b[0;36m<cell line: 4>\u001b[0;34m()\u001b[0m\n\u001b[1;32m      2\u001b[0m \u001b[0mkelime\u001b[0m \u001b[0;34m=\u001b[0m \u001b[0minput\u001b[0m\u001b[0;34m(\u001b[0m\u001b[0;34m\"Yeni eklenecek kelimeyi giriniz: \"\u001b[0m\u001b[0;34m)\u001b[0m\u001b[0;34m\u001b[0m\u001b[0;34m\u001b[0m\u001b[0m\n\u001b[1;32m      3\u001b[0m \u001b[0maciklama\u001b[0m \u001b[0;34m=\u001b[0m \u001b[0minput\u001b[0m\u001b[0;34m(\u001b[0m\u001b[0;34m\"Yeni kelimenin açıklamasını giriniz: \"\u001b[0m\u001b[0;34m)\u001b[0m\u001b[0;34m\u001b[0m\u001b[0;34m\u001b[0m\u001b[0m\n\u001b[0;32m----> 4\u001b[0;31m \u001b[0msozluk\u001b[0m\u001b[0;34m[\u001b[0m\u001b[0mkelime\u001b[0m\u001b[0;34m]\u001b[0m \u001b[0;34m=\u001b[0m \u001b[0maciklama\u001b[0m\u001b[0;34m\u001b[0m\u001b[0;34m\u001b[0m\u001b[0m\n\u001b[0m",
            "\u001b[0;31mTypeError\u001b[0m: 'str' object does not support item assignment"
          ]
        }
      ]
    },
    {
      "cell_type": "code",
      "source": [
        "#Sözlükteki bir öğenin silinmesi\n",
        "print(sozluk)\n",
        "silinecek = (input(\"Silmek istediğiniz kelimeyi giriniz: \"))\n",
        "print(\"Silinecek kelime : \")\n",
        "del sozluk[silinecek]\n",
        "print(\"Silme tamamlandı\")\n",
        "print(sozluk)"
      ],
      "metadata": {
        "colab": {
          "base_uri": "https://localhost:8080/"
        },
        "id": "Dwua1jmmxxft",
        "outputId": "72f8dc78-3396-41e0-9621-a4035c4c55a3"
      },
      "execution_count": null,
      "outputs": [
        {
          "output_type": "stream",
          "name": "stdout",
          "text": [
            "{'Fiil': 'eylem.', 'İsim': 'ad.', 'Ek': 'Kelime türetmek veya çekimlemek için kullanılan, kelimenin başına, sonuna veya içine eklenebilen, kendi başına anlamı olmayan dil ögesi', 'Bağlaç': 'Eş görevli kelimeleri veya söz dizimi unsurlarını birbirine bağlayan kelime türü.', 'Zamir': 'Kişi, dönüşlülük, gösterme, soru ve belirsizlik anlamı vererek adların yerini tutan söz.', 'Kip': 'Çekimli fiilin bildirdiği oluş ve kılışın; konuşan, dinleyen veya kendisinden söz edilen şahıslar açısından ne biçimde, ne tarzda olacağını gösteren kategori.', 'Fiilimsi': 'Olumlu veya olumsuz fiillere belirli ekler getirilerek yapılan, geçici isim, sıfat, zarf olarak kullanılan ad-fiil, sıfat-fiil ve zarf-fiilin genel adı.', 'Yüklem': 'Cümlede iş, oluş ve yargıyı bildiren çekime girmiş kelimenin söz dizimindeki adı.', 'Tümleç': 'Yüklemin anlamını çeşitli yönlerden tamamlayan öge.', 'Sözcük': 'kelime'}\n",
            "Silmek istediğiniz kelimeyi giriniz: Fiil\n",
            "Silinecek kelime : \n",
            "Silme tamamlandı\n",
            "{'İsim': 'ad.', 'Ek': 'Kelime türetmek veya çekimlemek için kullanılan, kelimenin başına, sonuna veya içine eklenebilen, kendi başına anlamı olmayan dil ögesi', 'Bağlaç': 'Eş görevli kelimeleri veya söz dizimi unsurlarını birbirine bağlayan kelime türü.', 'Zamir': 'Kişi, dönüşlülük, gösterme, soru ve belirsizlik anlamı vererek adların yerini tutan söz.', 'Kip': 'Çekimli fiilin bildirdiği oluş ve kılışın; konuşan, dinleyen veya kendisinden söz edilen şahıslar açısından ne biçimde, ne tarzda olacağını gösteren kategori.', 'Fiilimsi': 'Olumlu veya olumsuz fiillere belirli ekler getirilerek yapılan, geçici isim, sıfat, zarf olarak kullanılan ad-fiil, sıfat-fiil ve zarf-fiilin genel adı.', 'Yüklem': 'Cümlede iş, oluş ve yargıyı bildiren çekime girmiş kelimenin söz dizimindeki adı.', 'Tümleç': 'Yüklemin anlamını çeşitli yönlerden tamamlayan öge.', 'Sözcük': 'kelime'}\n"
          ]
        }
      ]
    },
    {
      "cell_type": "code",
      "source": [
        "#Sözlükteki bir öğenin güncellenmesi\n",
        "print(sozluk)\n",
        "guncellenecek = (input(\"Güncellemek istediğiniz kelimeyi giriniz: \"))\n",
        "print(\"Güncellenecek kelime: \")\n",
        "guncelSozluk = input(\"Güncel kelime bilgisini giriniz: \")\n",
        "sozluk[guncellenecek] = guncelSozluk\n",
        "print(\"Güncelleme tamamlandı\")\n",
        "print(sozluk)"
      ],
      "metadata": {
        "colab": {
          "base_uri": "https://localhost:8080/"
        },
        "id": "3uHRx3yIyrwF",
        "outputId": "8b1d428b-d8a4-45e7-fda2-08694c655cfe"
      },
      "execution_count": null,
      "outputs": [
        {
          "output_type": "stream",
          "name": "stdout",
          "text": [
            "{'İsim': 'Ad', 'Ek': 'Kelime türetmek veya çekimlemek için kullanılan, kelimenin başına, sonuna veya içine eklenebilen, kendi başına anlamı olmayan dil ögesi', 'Bağlaç': 'Eş görevli kelimeleri veya söz dizimi unsurlarını birbirine bağlayan kelime türü.', 'Zamir': 'Kişi, dönüşlülük, gösterme, soru ve belirsizlik anlamı vererek adların yerini tutan söz.', 'Kip': 'Çekimli fiilin bildirdiği oluş ve kılışın; konuşan, dinleyen veya kendisinden söz edilen şahıslar açısından ne biçimde, ne tarzda olacağını gösteren kategori.', 'Fiilimsi': 'Olumlu veya olumsuz fiillere belirli ekler getirilerek yapılan, geçici isim, sıfat, zarf olarak kullanılan ad-fiil, sıfat-fiil ve zarf-fiilin genel adı.', 'Yüklem': 'Cümlede iş, oluş ve yargıyı bildiren çekime girmiş kelimenin söz dizimindeki adı.', 'Tümleç': 'Yüklemin anlamını çeşitli yönlerden tamamlayan öge.', 'Sözcük': 'kelime'}\n",
            "Güncellemek istediğiniz kelimeyi giriniz: Ek\n",
            "Güncellenecek kelime: \n",
            "Güncel kelime bilgisini giriniz: takviye\n",
            "Güncelleme tamamlandı\n",
            "{'İsim': 'Ad', 'Ek': 'takviye', 'Bağlaç': 'Eş görevli kelimeleri veya söz dizimi unsurlarını birbirine bağlayan kelime türü.', 'Zamir': 'Kişi, dönüşlülük, gösterme, soru ve belirsizlik anlamı vererek adların yerini tutan söz.', 'Kip': 'Çekimli fiilin bildirdiği oluş ve kılışın; konuşan, dinleyen veya kendisinden söz edilen şahıslar açısından ne biçimde, ne tarzda olacağını gösteren kategori.', 'Fiilimsi': 'Olumlu veya olumsuz fiillere belirli ekler getirilerek yapılan, geçici isim, sıfat, zarf olarak kullanılan ad-fiil, sıfat-fiil ve zarf-fiilin genel adı.', 'Yüklem': 'Cümlede iş, oluş ve yargıyı bildiren çekime girmiş kelimenin söz dizimindeki adı.', 'Tümleç': 'Yüklemin anlamını çeşitli yönlerden tamamlayan öge.', 'Sözcük': 'kelime'}\n"
          ]
        }
      ]
    }
  ]
}