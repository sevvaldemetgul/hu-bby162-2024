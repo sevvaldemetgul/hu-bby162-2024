{
  "nbformat": 4,
  "nbformat_minor": 0,
  "metadata": {
    "colab": {
      "provenance": [],
      "authorship_tag": "ABX9TyPOSCDujvdKCMsq1FT23YG4",
      "include_colab_link": true
    },
    "kernelspec": {
      "name": "python3",
      "display_name": "Python 3"
    },
    "language_info": {
      "name": "python"
    }
  },
  "cells": [
    {
      "cell_type": "markdown",
      "metadata": {
        "id": "view-in-github",
        "colab_type": "text"
      },
      "source": [
        "<a href=\"https://colab.research.google.com/github/sevvaldemetgul/hu-bby162-2024/blob/main/adamAsmaca.ipynb\" target=\"_parent\"><img src=\"https://colab.research.google.com/assets/colab-badge.svg\" alt=\"Open In Colab\"/></a>"
      ]
    },
    {
      "cell_type": "code",
      "execution_count": null,
      "metadata": {
        "id": "PwjzG6kAxhMA"
      },
      "outputs": [],
      "source": [
        "print(\"Oyuna hoş geldiniz, eğlenceye hazır olun!\")"
      ]
    },
    {
      "cell_type": "code",
      "source": [
        "import random\n",
        "\n",
        "# Kelime listesi\n",
        "kelimeler = [\"eldiven\" , \"atkı\" , \"bere\" , \"kaşkol\" , \"şal\" , \"mont\" , \"kaban\" , \"bot\" , \"çizme\" , \"kazak\"]\n",
        "\n",
        "def kelime_sec():\n",
        "    return random.choice(kelimeler)\n",
        "\n",
        "def oyunu_baslat():\n",
        "    print(\"Adam Asmaca Oyununa Hoş Geldiniz!\\n\")\n",
        "    print(\"Oyuna başladınız! Lütfen bir zorluk seviyesi seçiniz:\")\n",
        "    print(\"1. Kolay (7 can)\")\n",
        "    print(\"2. Orta (5 can)\")\n",
        "    print(\"3. Zor (3 can)\")\n",
        "\n",
        "    while True:\n",
        "        secim = input(\"Zorluk seviyesini seçiniz (1/2/3): \")\n",
        "        if secim in [\"1\", \"2\", \"3\"]:\n",
        "            return int(secim)\n",
        "        else:\n",
        "            print(\"Geçersiz karakter. Lütfen 1, 2 veya 3 giriniz.\")\n",
        "\n",
        "def harfi_gosterilmis_kelime(kelime, tahmin_edilen_harfler):\n",
        "    return \"\".join([harf if harf in tahmin_edilen_harfler else \"_\" for harf in kelime])\n",
        "\n",
        "def oyun():\n",
        "    canlar = {1: 7, 2: 5, 3: 3}\n",
        "    secilen_kelime = kelime_sec()\n",
        "    tahmin_edilen_harfler = []\n",
        "    kalan_can = canlar[oyunu_baslat()]\n",
        "\n",
        "    while kalan_can > 0:\n",
        "        print(\"\\nKelime:\", harfi_gosterilmis_kelime(secilen_kelime, tahmin_edilen_harfler))\n",
        "        tahmin = input(\"Bir harf tahmin ediniz: \").lower()\n",
        "\n",
        "        if tahmin in tahmin_edilen_harfler:\n",
        "            print(\"Bu harfi daha önce tahmin ettiniz.\")\n",
        "            continue\n",
        "\n",
        "        if tahmin in secilen_kelime:\n",
        "            tahmin_edilen_harfler.append(tahmin)\n",
        "            if set(tahmin_edilen_harfler) == set(secilen_kelime):\n",
        "                print(\"Tebrikler! Kelimeyi doğru tahmin!:\", secilen_kelime)\n",
        "                break\n",
        "        else:\n",
        "            kalan_can -= 1\n",
        "            print(\"Tahmininiz yanlış! Kalan can:\", kalan_can)\n",
        "\n",
        "    else:\n",
        "        print(\"Maalesef, tüm tahmin haklarınızı kullandınız. Doğru kelime:\", secilen_kelime)\n",
        "\n",
        "    tekrar_oyna = input(\"Tekrar oynamak ister misiniz? (Evet/Hayır): \").lower()\n",
        "    if tekrar_oyna == \"evet\":\n",
        "        oyun()\n",
        "    else:\n",
        "        print(\"Oyunu bitirdiniz.Görüşmek üzere!\")\n",
        "\n",
        "oyun()"
      ],
      "metadata": {
        "id": "75dvTz7fySRh"
      },
      "execution_count": null,
      "outputs": []
    }
  ]
}